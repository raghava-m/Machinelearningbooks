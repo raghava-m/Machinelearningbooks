{
  "nbformat": 4,
  "nbformat_minor": 0,
  "metadata": {
    "colab": {
      "name": "example.ipynb",
      "provenance": [],
      "collapsed_sections": [],
      "authorship_tag": "ABX9TyM/5ws6aKx82yqz/4BqBnQO",
      "include_colab_link": true
    },
    "kernelspec": {
      "name": "python3",
      "display_name": "Python 3"
    },
    "language_info": {
      "name": "python"
    }
  },
  "cells": [
    {
      "cell_type": "markdown",
      "metadata": {
        "id": "view-in-github",
        "colab_type": "text"
      },
      "source": [
        "<a href=\"https://colab.research.google.com/github/raghava-m/Machinelearningbooks/blob/main/example.ipynb\" target=\"_parent\"><img src=\"https://colab.research.google.com/assets/colab-badge.svg\" alt=\"Open In Colab\"/></a>"
      ]
    },
    {
      "cell_type": "code",
      "execution_count": 4,
      "metadata": {
        "colab": {
          "base_uri": "https://localhost:8080/",
          "height": 276
        },
        "id": "1Qko4Cw34Igd",
        "outputId": "836c869c-6646-4cde-d622-ba069cfb10de"
      },
      "outputs": [
        {
          "output_type": "stream",
          "name": "stdout",
          "text": [
            "Welcome to the game\n",
            "\n"
          ]
        },
        {
          "output_type": "error",
          "ename": "NameError",
          "evalue": "ignored",
          "traceback": [
            "\u001b[0;31m---------------------------------------------------------------------------\u001b[0m",
            "\u001b[0;31mNameError\u001b[0m                                 Traceback (most recent call last)",
            "\u001b[0;32m<ipython-input-4-9a095a5645b3>\u001b[0m in \u001b[0;36m<module>\u001b[0;34m()\u001b[0m\n\u001b[1;32m     49\u001b[0m \u001b[0mplayer1\u001b[0m\u001b[0;34m=\u001b[0m\u001b[0;34m[\u001b[0m\u001b[0;34m]\u001b[0m\u001b[0;34m\u001b[0m\u001b[0;34m\u001b[0m\u001b[0m\n\u001b[1;32m     50\u001b[0m \u001b[0mcomputer1\u001b[0m\u001b[0;34m=\u001b[0m\u001b[0;34m[\u001b[0m\u001b[0;34m]\u001b[0m\u001b[0;34m\u001b[0m\u001b[0;34m\u001b[0m\u001b[0m\n\u001b[0;32m---> 51\u001b[0;31m \u001b[0mnew_bank\u001b[0m\u001b[0;34m=\u001b[0m\u001b[0mBank\u001b[0m\u001b[0;34m(\u001b[0m\u001b[0;34m)\u001b[0m\u001b[0;34m\u001b[0m\u001b[0;34m\u001b[0m\u001b[0m\n\u001b[0m\u001b[1;32m     52\u001b[0m \u001b[0msum_player\u001b[0m\u001b[0;34m=\u001b[0m\u001b[0;36m0\u001b[0m\u001b[0;34m\u001b[0m\u001b[0;34m\u001b[0m\u001b[0m\n\u001b[1;32m     53\u001b[0m \u001b[0msum_com\u001b[0m\u001b[0;34m=\u001b[0m\u001b[0;36m0\u001b[0m\u001b[0;34m\u001b[0m\u001b[0;34m\u001b[0m\u001b[0m\n",
            "\u001b[0;31mNameError\u001b[0m: name 'Bank' is not defined"
          ]
        }
      ],
      "source": [
        "import random\n",
        "\n",
        "suits=('Hearts','Diamond','Spade','cluds')\n",
        "ranks=('One','Two','Three','Four','Five','Six','Seven','Eight','Nine','Ten','Jack','King','Queen','Ace')\n",
        "values={'One':1,'Two':2,'Three':3,'Four':4,'Five':5,'Six':6,'Seven':7,'Eight':8,'Nine':9,'Ten':10,'Jack':11,'King':12,'Queen':13,'Ace':14}\n",
        "\n",
        "\n",
        "class Card:\n",
        "    \n",
        "    def __init__(self,suit,rank):\n",
        "        self.suit=suit\n",
        "        self.rank=rank\n",
        "        self.value=values[rank]\n",
        "    def __str__(self):\n",
        "        return f'{self.rank} of {self.suit}' \n",
        "\n",
        "class Deck:\n",
        "    \n",
        "    def __init__(self):\n",
        "        self.all_cards=[]\n",
        "        for suit in suits:\n",
        "            for rank in ranks:\n",
        "                creat_card=Card(suit,rank)\n",
        "                self.all_cards.append(creat_card)\n",
        "    def shuffle(self):\n",
        "        random.shuffle(self.all_cards)\n",
        "    def deal_with_one(self):\n",
        "        return self.all_cards.pop()\n",
        "\n",
        "class Player:\n",
        "    \n",
        "    def __init__(self):\n",
        "        self.all_cards=[]\n",
        "    def add_on(self,card):\n",
        "        if type(card)==type([]):\n",
        "            self.all_cards.extend(card)\n",
        "        else:\n",
        "            \n",
        "            self.all_cards.append(card)\n",
        "    def __str__(self):\n",
        "        return f'{self.name} has {len(self.all_cards)} cards'\n",
        "\n",
        "#Game\n",
        "print('Welcome to the game\\n')\n",
        "human_player=Player()\n",
        "New_deck=Deck()\n",
        "New_deck.shuffle()\n",
        "computuer_delar=Player()\n",
        "player1=[]\n",
        "computer1=[]\n",
        "new_bank=Bank()\n",
        "sum_player=0\n",
        "sum_com=0\n",
        "while True:\n",
        "    chips=int(input('How many chips do you want to bet'))\n",
        "    if(chips<=new_bank.balance):\n",
        "        break\n",
        "    else:\n",
        "        print(\"your are betting more than your balance\" )\n",
        "\n",
        "print('\\nHuman player cards are:')\n",
        "for mycard in range(2):\n",
        "    \n",
        "    mycard=New_deck.deal_with_one()\n",
        "    print(mycard)\n",
        "    player1.append(mycard)\n",
        "    sum_palyer=sum_player+mycard.value\n",
        "print('\\nComputer palyer card is:')\n",
        "\n",
        "com_card=New_deck.deal_with_one()\n",
        "print(com_card)\n",
        "computer1.append(com_card)\n",
        "sum_com=sum_com+com_card.value\n",
        "com_card=New_deck.deal_with_one()\n",
        "print('<closed card>')\n",
        "computer1.append(com_card)\n",
        "sum_com=sum_com+com_card.value\n",
        "game_on=True\n",
        "print('\\nHuman Player turn\\n')\n",
        "\n",
        "while True:\n",
        "    print('Enter hit if you want to hit or Enter skip if you want to skip')\n",
        "    result = input('Do you want to Hit')\n",
        "    if result=='hit':\n",
        "        mycard=New_deck.deal_with_one()\n",
        "        player1.append(mycard)\n",
        "        sum_player=sum_player+mycard.value\n",
        "        if sum_player>21:\n",
        "            print(f'Human Player sum is greater than 21 that is {sum_player}')\n",
        "            print('Human Player lost the game')\n",
        "            new_bank.win_game(chips)\n",
        "            game_on=False\n",
        "            break\n",
        "    else:\n",
        "        break\n",
        "if game_on:\n",
        "    print('computer turn\\n')\n",
        "    result2=random.randint(1,3)\n",
        "    for i in range(result2):\n",
        "        com_card=New_deck.deal_with_one()\n",
        "        computer1.append(com_card)\n",
        "        sum_com=sum_com+com_card.value\n",
        "    if (sum_com>sum_player) and sum_com<21:\n",
        "        print(f'Computer game is less than 21 {sum_com}')\n",
        "        print('Computer won')\n",
        "        new_bank.lost_game(chips)\n",
        "    if sum_com>21:\n",
        "        print(f'Computer player is greater than 21 that is {sum_com}')\n",
        "        print('Human player won')\n",
        "        new_bank.win_game(chips)\n",
        "        \n",
        "print('\\ngame ends\\nThanks for playing')\n",
        "\n",
        "\n",
        "result=random.randint(1,3)\n",
        "result\n",
        "2\n",
        "class Bank:\n",
        "    \n",
        "    def __init__(self):\n",
        "        self.balance=100\n",
        "    def lost_game(self,chips):\n",
        "        self.balance-=chips\n",
        "        print(f'player left with {self.balance} chips' )\n",
        "    def win_game(self,chips):\n",
        "        self.balance+=chips\n",
        "        print(f'player left with {self.balance} chips' )\n",
        "        \n",
        " \n",
        " \n",
        " \n"
      ]
    },
    {
      "cell_type": "markdown",
      "source": [
        "# New Section"
      ],
      "metadata": {
        "id": "bsUldl1d4pj6"
      }
    }
  ]
}